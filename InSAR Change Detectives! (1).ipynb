{
 "cells": [
  {
   "cell_type": "markdown",
   "id": "83f3051b",
   "metadata": {},
   "source": [
    "The Challenge\n",
    "\n",
    "Earth scientists would like to use radar signals to observe small deformations of Earth’s surface, but interactions with tropospheric water vapor slow down the radar signal and make it look like the ground is moving. Your challenge is to come up with an algorithm to remove the tropospheric signal from various radar datasets and discern the real ground motion!\n",
    "\n",
    "\n",
    "Background\n",
    "\n",
    "Scientists use repeat pass Synthetic Aperture Radar Interferometry (InSAR) to observe the relative motion of Earth’s surface by measuring the time it takes for the electromagnetic signal to travel from a satellite to the ground and back. As the signal goes through the various layers of the atmosphere, it changes slightly. One of these changes takes place in the troposphere as the signal slows down when it interacts with water vapor. As the amount of total precipitable water vapor changes over time, the rate at which the signal slows changes as well. These changes can mask the actual surface deformation signal. \n",
    "\n",
    "Many solutions to this problem have been developed over the years, including simple averaging, space-time adaptive filtering, and machine learning approaches. There are also other methods that use additional data to resolve the tropospheric signal.\n",
    "\n",
    "\n",
    "Objectives\n",
    "\n",
    "Your challenge is to create a “notebook” containing both computer code and other elements (e.g., text, images, links, figures, etc.) that visualizes the original “noisy” InSAR data, applies and explains the algorithm you use to remove the tropospheric signal, and presents the resulting “clean” data in a clear manner. Are your signal processing skills up to the challenge to separate the wheat from the chaff?\n",
    "Potential Considerations\n",
    "\n",
    "As you design your project, you may (but are not required to) consider the following:\n",
    "\n",
    "    The temporal and spatial correlation of signals you are interested in separating, namely ground deformation and tropospheric noise. \n",
    "    The impact of the resolution on the temporal and spatial correlations. \n",
    "    The amplitude of the signals you are interested in separating. \n",
    "    The changes in the radar line of sight as the imaging geometry changes from ascending to descending passes.\n",
    "    The impact of topography when you are working with real data.\n",
    "    You may incorporate existing methods (e.g., solutions involving averaging, space-time adaptive filtering, machine learning, and additional data) to resolve the tropospheric signal in your project.\n",
    "    We will use simulated data with a known “answer” as well as real imagery to evaluate how well your algorithm retrieves the deformation signal.\n",
    "    Consider using your favorite search engine to look for an open source web application to use to produce your “notebook.” Key words to help with your research include:\n",
    "        Online programming notebooks\n",
    "        Open source web application notebook\n",
    "\n"
   ]
  },
  {
   "cell_type": "code",
   "execution_count": null,
   "id": "abad6661",
   "metadata": {},
   "outputs": [],
   "source": [
    "ZTD (mm) = ZHD + ZWD\n",
    "\n",
    "ZHD = (2.2779 ± 0.0024) Ps/ f(λ, H) \n",
    "\n",
    "f(λ, H) = (1 − 0.00266 cos2λ − 0.00028H)\n",
    "\n",
    "\n",
    "ZWD = (0.382 ± 0.004)K\n",
    "2mbar−1\n",
    "Z \u0010 pv\n",
    "T2\n",
    "\u0011\n",
    "\n",
    "\n",
    "\"\"\"\"Zenith Hydrostatic Delays (ZHD) \n",
    "Zenith Wet Delays (ZWD)\n",
    "Zenith Total Delay (ZTD)\n",
    "\"\"\"\n",
    "\n",
    "\n",
    "\n",
    "\n"
   ]
  }
 ],
 "metadata": {
  "kernelspec": {
   "display_name": "Python 3 (ipykernel)",
   "language": "python",
   "name": "python3"
  },
  "language_info": {
   "codemirror_mode": {
    "name": "ipython",
    "version": 3
   },
   "file_extension": ".py",
   "mimetype": "text/x-python",
   "name": "python",
   "nbconvert_exporter": "python",
   "pygments_lexer": "ipython3",
   "version": "3.10.4"
  }
 },
 "nbformat": 4,
 "nbformat_minor": 5
}
